{
 "cells": [
  {
   "cell_type": "markdown",
   "metadata": {},
   "source": [
    "# HAY ESPACIOS EN EL DATASET DE EXTRADATA"
   ]
  },
  {
   "cell_type": "code",
   "execution_count": 1,
   "metadata": {},
   "outputs": [],
   "source": [
    "#data analysis libraries \n",
    "import numpy as np\n",
    "import pandas as pd\n",
    "import matplotlib.pyplot as plt\n",
    "from sklearn import datasets, linear_model\n",
    "from sklearn.metrics import mean_squared_error, r2_score\n",
    "%matplotlib inline\n",
    "import warnings\n",
    "warnings.filterwarnings('ignore')\n",
    "from IPython.display import set_matplotlib_formats\n",
    "set_matplotlib_formats('retina', quality=100)\n",
    "\n",
    "\n",
    "ExtraData = pd.read_csv(\"countries of the world.csv\")\n",
    "#print(continents.columns)\n",
    "CovidData = pd.read_csv(\"country_vaccinations.csv\")\n",
    "ExtraData2 = pd.read_csv(\"country_profile_variables.csv\")"
   ]
  },
  {
   "cell_type": "code",
   "execution_count": 2,
   "metadata": {},
   "outputs": [
    {
     "data": {
      "text/html": [
       "<div>\n",
       "<style scoped>\n",
       "    .dataframe tbody tr th:only-of-type {\n",
       "        vertical-align: middle;\n",
       "    }\n",
       "\n",
       "    .dataframe tbody tr th {\n",
       "        vertical-align: top;\n",
       "    }\n",
       "\n",
       "    .dataframe thead th {\n",
       "        text-align: right;\n",
       "    }\n",
       "</style>\n",
       "<table border=\"1\" class=\"dataframe\">\n",
       "  <thead>\n",
       "    <tr style=\"text-align: right;\">\n",
       "      <th></th>\n",
       "      <th>country</th>\n",
       "      <th>iso_code</th>\n",
       "      <th>date</th>\n",
       "      <th>total_vaccinations</th>\n",
       "      <th>people_vaccinated</th>\n",
       "      <th>people_fully_vaccinated</th>\n",
       "      <th>daily_vaccinations_raw</th>\n",
       "      <th>daily_vaccinations</th>\n",
       "      <th>total_vaccinations_per_hundred</th>\n",
       "      <th>people_vaccinated_per_hundred</th>\n",
       "      <th>people_fully_vaccinated_per_hundred</th>\n",
       "      <th>daily_vaccinations_per_million</th>\n",
       "      <th>vaccines</th>\n",
       "      <th>source_name</th>\n",
       "      <th>source_website</th>\n",
       "    </tr>\n",
       "  </thead>\n",
       "  <tbody>\n",
       "    <tr>\n",
       "      <th>0</th>\n",
       "      <td>Afghanistan</td>\n",
       "      <td>AFG</td>\n",
       "      <td>2021-02-22</td>\n",
       "      <td>0.0</td>\n",
       "      <td>0.0</td>\n",
       "      <td>NaN</td>\n",
       "      <td>NaN</td>\n",
       "      <td>NaN</td>\n",
       "      <td>0.0</td>\n",
       "      <td>0.0</td>\n",
       "      <td>NaN</td>\n",
       "      <td>NaN</td>\n",
       "      <td>Oxford/AstraZeneca</td>\n",
       "      <td>Government of Afghanistan</td>\n",
       "      <td>http://www.xinhuanet.com/english/asiapacific/2...</td>\n",
       "    </tr>\n",
       "    <tr>\n",
       "      <th>1</th>\n",
       "      <td>Afghanistan</td>\n",
       "      <td>AFG</td>\n",
       "      <td>2021-02-23</td>\n",
       "      <td>NaN</td>\n",
       "      <td>NaN</td>\n",
       "      <td>NaN</td>\n",
       "      <td>NaN</td>\n",
       "      <td>1367.0</td>\n",
       "      <td>NaN</td>\n",
       "      <td>NaN</td>\n",
       "      <td>NaN</td>\n",
       "      <td>35.0</td>\n",
       "      <td>Oxford/AstraZeneca</td>\n",
       "      <td>Government of Afghanistan</td>\n",
       "      <td>http://www.xinhuanet.com/english/asiapacific/2...</td>\n",
       "    </tr>\n",
       "    <tr>\n",
       "      <th>2</th>\n",
       "      <td>Afghanistan</td>\n",
       "      <td>AFG</td>\n",
       "      <td>2021-02-24</td>\n",
       "      <td>NaN</td>\n",
       "      <td>NaN</td>\n",
       "      <td>NaN</td>\n",
       "      <td>NaN</td>\n",
       "      <td>1367.0</td>\n",
       "      <td>NaN</td>\n",
       "      <td>NaN</td>\n",
       "      <td>NaN</td>\n",
       "      <td>35.0</td>\n",
       "      <td>Oxford/AstraZeneca</td>\n",
       "      <td>Government of Afghanistan</td>\n",
       "      <td>http://www.xinhuanet.com/english/asiapacific/2...</td>\n",
       "    </tr>\n",
       "    <tr>\n",
       "      <th>3</th>\n",
       "      <td>Afghanistan</td>\n",
       "      <td>AFG</td>\n",
       "      <td>2021-02-25</td>\n",
       "      <td>NaN</td>\n",
       "      <td>NaN</td>\n",
       "      <td>NaN</td>\n",
       "      <td>NaN</td>\n",
       "      <td>1367.0</td>\n",
       "      <td>NaN</td>\n",
       "      <td>NaN</td>\n",
       "      <td>NaN</td>\n",
       "      <td>35.0</td>\n",
       "      <td>Oxford/AstraZeneca</td>\n",
       "      <td>Government of Afghanistan</td>\n",
       "      <td>http://www.xinhuanet.com/english/asiapacific/2...</td>\n",
       "    </tr>\n",
       "    <tr>\n",
       "      <th>4</th>\n",
       "      <td>Afghanistan</td>\n",
       "      <td>AFG</td>\n",
       "      <td>2021-02-26</td>\n",
       "      <td>NaN</td>\n",
       "      <td>NaN</td>\n",
       "      <td>NaN</td>\n",
       "      <td>NaN</td>\n",
       "      <td>1367.0</td>\n",
       "      <td>NaN</td>\n",
       "      <td>NaN</td>\n",
       "      <td>NaN</td>\n",
       "      <td>35.0</td>\n",
       "      <td>Oxford/AstraZeneca</td>\n",
       "      <td>Government of Afghanistan</td>\n",
       "      <td>http://www.xinhuanet.com/english/asiapacific/2...</td>\n",
       "    </tr>\n",
       "  </tbody>\n",
       "</table>\n",
       "</div>"
      ],
      "text/plain": [
       "       country iso_code        date  total_vaccinations  people_vaccinated  \\\n",
       "0  Afghanistan      AFG  2021-02-22                 0.0                0.0   \n",
       "1  Afghanistan      AFG  2021-02-23                 NaN                NaN   \n",
       "2  Afghanistan      AFG  2021-02-24                 NaN                NaN   \n",
       "3  Afghanistan      AFG  2021-02-25                 NaN                NaN   \n",
       "4  Afghanistan      AFG  2021-02-26                 NaN                NaN   \n",
       "\n",
       "   people_fully_vaccinated  daily_vaccinations_raw  daily_vaccinations  \\\n",
       "0                      NaN                     NaN                 NaN   \n",
       "1                      NaN                     NaN              1367.0   \n",
       "2                      NaN                     NaN              1367.0   \n",
       "3                      NaN                     NaN              1367.0   \n",
       "4                      NaN                     NaN              1367.0   \n",
       "\n",
       "   total_vaccinations_per_hundred  people_vaccinated_per_hundred  \\\n",
       "0                             0.0                            0.0   \n",
       "1                             NaN                            NaN   \n",
       "2                             NaN                            NaN   \n",
       "3                             NaN                            NaN   \n",
       "4                             NaN                            NaN   \n",
       "\n",
       "   people_fully_vaccinated_per_hundred  daily_vaccinations_per_million  \\\n",
       "0                                  NaN                             NaN   \n",
       "1                                  NaN                            35.0   \n",
       "2                                  NaN                            35.0   \n",
       "3                                  NaN                            35.0   \n",
       "4                                  NaN                            35.0   \n",
       "\n",
       "             vaccines                source_name  \\\n",
       "0  Oxford/AstraZeneca  Government of Afghanistan   \n",
       "1  Oxford/AstraZeneca  Government of Afghanistan   \n",
       "2  Oxford/AstraZeneca  Government of Afghanistan   \n",
       "3  Oxford/AstraZeneca  Government of Afghanistan   \n",
       "4  Oxford/AstraZeneca  Government of Afghanistan   \n",
       "\n",
       "                                      source_website  \n",
       "0  http://www.xinhuanet.com/english/asiapacific/2...  \n",
       "1  http://www.xinhuanet.com/english/asiapacific/2...  \n",
       "2  http://www.xinhuanet.com/english/asiapacific/2...  \n",
       "3  http://www.xinhuanet.com/english/asiapacific/2...  \n",
       "4  http://www.xinhuanet.com/english/asiapacific/2...  "
      ]
     },
     "execution_count": 2,
     "metadata": {},
     "output_type": "execute_result"
    }
   ],
   "source": [
    "CovidData.head()"
   ]
  },
  {
   "cell_type": "code",
   "execution_count": 3,
   "metadata": {
    "scrolled": false
   },
   "outputs": [
    {
     "data": {
      "text/html": [
       "<div>\n",
       "<style scoped>\n",
       "    .dataframe tbody tr th:only-of-type {\n",
       "        vertical-align: middle;\n",
       "    }\n",
       "\n",
       "    .dataframe tbody tr th {\n",
       "        vertical-align: top;\n",
       "    }\n",
       "\n",
       "    .dataframe thead th {\n",
       "        text-align: right;\n",
       "    }\n",
       "</style>\n",
       "<table border=\"1\" class=\"dataframe\">\n",
       "  <thead>\n",
       "    <tr style=\"text-align: right;\">\n",
       "      <th></th>\n",
       "      <th>Country</th>\n",
       "      <th>Region</th>\n",
       "      <th>Population</th>\n",
       "      <th>Area (sq. mi.)</th>\n",
       "      <th>Pop. Density (per sq. mi.)</th>\n",
       "      <th>Coastline (coast/area ratio)</th>\n",
       "      <th>Net migration</th>\n",
       "      <th>Infant mortality (per 1000 births)</th>\n",
       "      <th>GDP ($ per capita)</th>\n",
       "      <th>Literacy (%)</th>\n",
       "      <th>Phones (per 1000)</th>\n",
       "      <th>Arable (%)</th>\n",
       "      <th>Crops (%)</th>\n",
       "      <th>Other (%)</th>\n",
       "      <th>Climate</th>\n",
       "      <th>Birthrate</th>\n",
       "      <th>Deathrate</th>\n",
       "      <th>Agriculture</th>\n",
       "      <th>Industry</th>\n",
       "      <th>Service</th>\n",
       "    </tr>\n",
       "  </thead>\n",
       "  <tbody>\n",
       "    <tr>\n",
       "      <th>0</th>\n",
       "      <td>Afghanistan</td>\n",
       "      <td>ASIA (EX. NEAR EAST)</td>\n",
       "      <td>31056997</td>\n",
       "      <td>647500</td>\n",
       "      <td>48,0</td>\n",
       "      <td>0,00</td>\n",
       "      <td>23,06</td>\n",
       "      <td>163,07</td>\n",
       "      <td>700.0</td>\n",
       "      <td>36,0</td>\n",
       "      <td>3,2</td>\n",
       "      <td>12,13</td>\n",
       "      <td>0,22</td>\n",
       "      <td>87,65</td>\n",
       "      <td>1</td>\n",
       "      <td>46,6</td>\n",
       "      <td>20,34</td>\n",
       "      <td>0,38</td>\n",
       "      <td>0,24</td>\n",
       "      <td>0,38</td>\n",
       "    </tr>\n",
       "    <tr>\n",
       "      <th>1</th>\n",
       "      <td>Albania</td>\n",
       "      <td>EASTERN EUROPE</td>\n",
       "      <td>3581655</td>\n",
       "      <td>28748</td>\n",
       "      <td>124,6</td>\n",
       "      <td>1,26</td>\n",
       "      <td>-4,93</td>\n",
       "      <td>21,52</td>\n",
       "      <td>4500.0</td>\n",
       "      <td>86,5</td>\n",
       "      <td>71,2</td>\n",
       "      <td>21,09</td>\n",
       "      <td>4,42</td>\n",
       "      <td>74,49</td>\n",
       "      <td>3</td>\n",
       "      <td>15,11</td>\n",
       "      <td>5,22</td>\n",
       "      <td>0,232</td>\n",
       "      <td>0,188</td>\n",
       "      <td>0,579</td>\n",
       "    </tr>\n",
       "    <tr>\n",
       "      <th>2</th>\n",
       "      <td>Algeria</td>\n",
       "      <td>NORTHERN AFRICA</td>\n",
       "      <td>32930091</td>\n",
       "      <td>2381740</td>\n",
       "      <td>13,8</td>\n",
       "      <td>0,04</td>\n",
       "      <td>-0,39</td>\n",
       "      <td>31</td>\n",
       "      <td>6000.0</td>\n",
       "      <td>70,0</td>\n",
       "      <td>78,1</td>\n",
       "      <td>3,22</td>\n",
       "      <td>0,25</td>\n",
       "      <td>96,53</td>\n",
       "      <td>1</td>\n",
       "      <td>17,14</td>\n",
       "      <td>4,61</td>\n",
       "      <td>0,101</td>\n",
       "      <td>0,6</td>\n",
       "      <td>0,298</td>\n",
       "    </tr>\n",
       "    <tr>\n",
       "      <th>3</th>\n",
       "      <td>American Samoa</td>\n",
       "      <td>OCEANIA</td>\n",
       "      <td>57794</td>\n",
       "      <td>199</td>\n",
       "      <td>290,4</td>\n",
       "      <td>58,29</td>\n",
       "      <td>-20,71</td>\n",
       "      <td>9,27</td>\n",
       "      <td>8000.0</td>\n",
       "      <td>97,0</td>\n",
       "      <td>259,5</td>\n",
       "      <td>10</td>\n",
       "      <td>15</td>\n",
       "      <td>75</td>\n",
       "      <td>2</td>\n",
       "      <td>22,46</td>\n",
       "      <td>3,27</td>\n",
       "      <td>NaN</td>\n",
       "      <td>NaN</td>\n",
       "      <td>NaN</td>\n",
       "    </tr>\n",
       "    <tr>\n",
       "      <th>4</th>\n",
       "      <td>Andorra</td>\n",
       "      <td>WESTERN EUROPE</td>\n",
       "      <td>71201</td>\n",
       "      <td>468</td>\n",
       "      <td>152,1</td>\n",
       "      <td>0,00</td>\n",
       "      <td>6,6</td>\n",
       "      <td>4,05</td>\n",
       "      <td>19000.0</td>\n",
       "      <td>100,0</td>\n",
       "      <td>497,2</td>\n",
       "      <td>2,22</td>\n",
       "      <td>0</td>\n",
       "      <td>97,78</td>\n",
       "      <td>3</td>\n",
       "      <td>8,71</td>\n",
       "      <td>6,25</td>\n",
       "      <td>NaN</td>\n",
       "      <td>NaN</td>\n",
       "      <td>NaN</td>\n",
       "    </tr>\n",
       "  </tbody>\n",
       "</table>\n",
       "</div>"
      ],
      "text/plain": [
       "           Country                               Region  Population  \\\n",
       "0     Afghanistan         ASIA (EX. NEAR EAST)             31056997   \n",
       "1         Albania   EASTERN EUROPE                          3581655   \n",
       "2         Algeria   NORTHERN AFRICA                        32930091   \n",
       "3  American Samoa   OCEANIA                                   57794   \n",
       "4         Andorra   WESTERN EUROPE                            71201   \n",
       "\n",
       "   Area (sq. mi.) Pop. Density (per sq. mi.) Coastline (coast/area ratio)  \\\n",
       "0          647500                       48,0                         0,00   \n",
       "1           28748                      124,6                         1,26   \n",
       "2         2381740                       13,8                         0,04   \n",
       "3             199                      290,4                        58,29   \n",
       "4             468                      152,1                         0,00   \n",
       "\n",
       "  Net migration Infant mortality (per 1000 births)  GDP ($ per capita)  \\\n",
       "0         23,06                             163,07               700.0   \n",
       "1         -4,93                              21,52              4500.0   \n",
       "2         -0,39                                 31              6000.0   \n",
       "3        -20,71                               9,27              8000.0   \n",
       "4           6,6                               4,05             19000.0   \n",
       "\n",
       "  Literacy (%) Phones (per 1000) Arable (%) Crops (%) Other (%) Climate  \\\n",
       "0         36,0               3,2      12,13      0,22     87,65       1   \n",
       "1         86,5              71,2      21,09      4,42     74,49       3   \n",
       "2         70,0              78,1       3,22      0,25     96,53       1   \n",
       "3         97,0             259,5         10        15        75       2   \n",
       "4        100,0             497,2       2,22         0     97,78       3   \n",
       "\n",
       "  Birthrate Deathrate Agriculture Industry Service  \n",
       "0      46,6     20,34        0,38     0,24    0,38  \n",
       "1     15,11      5,22       0,232    0,188   0,579  \n",
       "2     17,14      4,61       0,101      0,6   0,298  \n",
       "3     22,46      3,27         NaN      NaN     NaN  \n",
       "4      8,71      6,25         NaN      NaN     NaN  "
      ]
     },
     "execution_count": 3,
     "metadata": {},
     "output_type": "execute_result"
    }
   ],
   "source": [
    "ExtraData.head()"
   ]
  },
  {
   "cell_type": "markdown",
   "metadata": {},
   "source": [
    "The aim of the next section of code is assure that it exists a connexion between Covid Dataset and an extra dataset with additional info. Datasets will be connected by the attribute \"country\". However, some cleaning is neaded to make them match (both country names have to be exactly equal in both datasets)"
   ]
  },
  {
   "cell_type": "code",
   "execution_count": 4,
   "metadata": {},
   "outputs": [],
   "source": [
    "#Remove spaces at the end of the word\n",
    "ExtraData['Country'] = ExtraData['Country'].str.rstrip()"
   ]
  },
  {
   "cell_type": "code",
   "execution_count": 5,
   "metadata": {
    "scrolled": true
   },
   "outputs": [],
   "source": [
    "#function that returns a list with country names of both datasets\n",
    "def make_countries_list():\n",
    "    country_CovidData = list(CovidData['country'].unique())\n",
    "    country_ExtraData = list(ExtraData['Country'].unique())\n",
    "    print(str(len(country_CovidData))+ \" Countries in CovidData\\n\" + str(len(country_ExtraData)) + \" Countries in ExtraData\")\n",
    "    return country_CovidData,country_ExtraData"
   ]
  },
  {
   "cell_type": "code",
   "execution_count": 6,
   "metadata": {},
   "outputs": [],
   "source": [
    "#function which shows which countries are already correct and which ones need changes\n",
    "\n",
    "def check_countries(CovidData_Countries,ExtraData_Countries):\n",
    "    count = 0\n",
    "    countries_ok = []\n",
    "    countries_not_ok = []\n",
    "    for i in CovidData_Countries:\n",
    "        if i in ExtraData_Countries:\n",
    "            count += 1\n",
    "            countries_ok.append(i)\n",
    "        else:\n",
    "            countries_not_ok.append(i)\n",
    "    print(str(len(countries_ok)) + \" number of countries that match\\n\" + str(len(countries_not_ok)) + \n",
    "         \" number of countries that don´t match\\n\")\n",
    "    print(\"Countries that don´t match are:\\n\" + str(countries_not_ok))\n",
    "    return countries_ok, countries_not_ok"
   ]
  },
  {
   "cell_type": "code",
   "execution_count": 7,
   "metadata": {},
   "outputs": [],
   "source": [
    "#Function that returns the list of countries that will replace the ones that don´t match in ExtraData eliminating the\n",
    "#ones we just dropped\n",
    "\n",
    "def drop_from_list(todrop, listorigin):\n",
    "    for element in todrop:\n",
    "        if element in listorigin:\n",
    "            listorigin.remove(element)\n",
    "    print(listorigin)\n",
    "    return listorigin"
   ]
  },
  {
   "cell_type": "code",
   "execution_count": 8,
   "metadata": {},
   "outputs": [],
   "source": [
    "def replace_countries(Countries_not_match,Countries_to_replace):\n",
    "    for i in range(len(Countries_not_match)):\n",
    "        ExtraData.replace(Countries_not_match[i],Countries_to_replace[i],inplace=True)"
   ]
  },
  {
   "cell_type": "code",
   "execution_count": 9,
   "metadata": {},
   "outputs": [
    {
     "name": "stdout",
     "output_type": "stream",
     "text": [
      "166 Countries in CovidData\n",
      "227 Countries in ExtraData\n"
     ]
    }
   ],
   "source": [
    "CovidData_Countries, ExtraData_Countries = make_countries_list()"
   ]
  },
  {
   "cell_type": "code",
   "execution_count": 10,
   "metadata": {
    "scrolled": true
   },
   "outputs": [
    {
     "name": "stdout",
     "output_type": "stream",
     "text": [
      "144 number of countries that match\n",
      "22 number of countries that don´t match\n",
      "\n",
      "Countries that don´t match are:\n",
      "['Antigua and Barbuda', 'Bahamas', 'Czechia', 'England', 'Faeroe Islands', 'Falkland Islands', 'Gambia', 'Kosovo', 'Macao', 'Montenegro', 'Myanmar', 'North Macedonia', 'Northern Cyprus', 'Northern Ireland', 'Palestine', 'Saint Kitts and Nevis', 'Sao Tome and Principe', 'Scotland', 'South Korea', 'Trinidad and Tobago', 'Turks and Caicos Islands', 'Wales']\n"
     ]
    }
   ],
   "source": [
    "countries_ok,countries_not_ok = check_countries(CovidData_Countries,ExtraData_Countries)"
   ]
  },
  {
   "cell_type": "markdown",
   "metadata": {},
   "source": [
    "Now, we have no option but changing manually the countries that don´t match. \n",
    "Example: \"Korea, South\" --> 'South Korea'\n",
    "\n",
    "Some of them don´t have data in the ExtraData dataset so we will drop these countries."
   ]
  },
  {
   "cell_type": "code",
   "execution_count": 11,
   "metadata": {},
   "outputs": [],
   "source": [
    "#Country names that have to be change in ExtraData dataset so they fit country names in CovidData\n",
    "\n",
    "Countries_not_match = ['Antigua & Barbuda','Bahamas, The','Czech Republic','Faroe Islands','Gambia, The',\n",
    "                    'Macau','Macedonia','Cyprus','Ireland','Sao Tome & Principe',\n",
    "                    'Korea, South','Trinidad & Tobago','Turks & Caicos Is']\n",
    "\n",
    "#Countries that will be dropped in Covid Dataset because they don´t exist in ExtraData\n",
    "Countries_not_ex = [\"England\",\"Falkland Islands\",\"Kosovo\",\"Montenegro\",\"Myanmar\",\"Palestine\",\"Saint Kitts and Nevis\",\n",
    "                \"Scotland\",\"Wales\"]\n"
   ]
  },
  {
   "cell_type": "code",
   "execution_count": 12,
   "metadata": {
    "scrolled": true
   },
   "outputs": [
    {
     "name": "stdout",
     "output_type": "stream",
     "text": [
      "9576\n",
      "9095\n"
     ]
    }
   ],
   "source": [
    "print(len(CovidData))\n",
    "CovidData = CovidData[~CovidData.country.isin(Countries_not_ex)]\n",
    "print(len(CovidData))"
   ]
  },
  {
   "cell_type": "code",
   "execution_count": 13,
   "metadata": {},
   "outputs": [
    {
     "name": "stdout",
     "output_type": "stream",
     "text": [
      "['Antigua and Barbuda', 'Bahamas', 'Czechia', 'Faeroe Islands', 'Gambia', 'Macao', 'North Macedonia', 'Northern Cyprus', 'Northern Ireland', 'Sao Tome and Principe', 'South Korea', 'Trinidad and Tobago', 'Turks and Caicos Islands']\n"
     ]
    }
   ],
   "source": [
    " Countries_to_replace = drop_from_list(Countries_not_ex,countries_not_ok)"
   ]
  },
  {
   "cell_type": "code",
   "execution_count": 14,
   "metadata": {
    "scrolled": false
   },
   "outputs": [
    {
     "name": "stdout",
     "output_type": "stream",
     "text": [
      "['Antigua & Barbuda', 'Bahamas, The', 'Czech Republic', 'Faroe Islands', 'Gambia, The', 'Macau', 'Macedonia', 'Cyprus', 'Ireland', 'Sao Tome & Principe', 'Korea, South', 'Trinidad & Tobago', 'Turks & Caicos Is']\n"
     ]
    }
   ],
   "source": [
    "print(Countries_not_match)\n"
   ]
  },
  {
   "cell_type": "markdown",
   "metadata": {},
   "source": [
    "To clarify, now we have to change Countries_not_match for Countries_to_replace"
   ]
  },
  {
   "cell_type": "code",
   "execution_count": 15,
   "metadata": {
    "scrolled": true
   },
   "outputs": [],
   "source": [
    "replace_countries(Countries_not_match,Countries_to_replace)"
   ]
  },
  {
   "cell_type": "markdown",
   "metadata": {},
   "source": [
    "We start the process from the beginning to see if now all countries are connected"
   ]
  },
  {
   "cell_type": "code",
   "execution_count": 16,
   "metadata": {
    "scrolled": false
   },
   "outputs": [
    {
     "name": "stdout",
     "output_type": "stream",
     "text": [
      "157 Countries in CovidData\n",
      "227 Countries in ExtraData\n"
     ]
    }
   ],
   "source": [
    "CovidData_Countries, ExtraData_Countries = make_countries_list()"
   ]
  },
  {
   "cell_type": "code",
   "execution_count": 17,
   "metadata": {
    "scrolled": false
   },
   "outputs": [
    {
     "name": "stdout",
     "output_type": "stream",
     "text": [
      "155 number of countries that match\n",
      "2 number of countries that don´t match\n",
      "\n",
      "Countries that don´t match are:\n",
      "['Cyprus', 'Ireland']\n"
     ]
    }
   ],
   "source": [
    "countries_ok,countries_not_ok = check_countries(CovidData_Countries,ExtraData_Countries)"
   ]
  },
  {
   "cell_type": "markdown",
   "metadata": {},
   "source": [
    "Althought there should exist a connection between Cyprus and Ireland in both datasets because we changed the name,\n",
    "something seems to be wrong. We will drop this two countries"
   ]
  },
  {
   "cell_type": "code",
   "execution_count": 18,
   "metadata": {
    "scrolled": false
   },
   "outputs": [
    {
     "name": "stdout",
     "output_type": "stream",
     "text": [
      "9095\n",
      "8930\n"
     ]
    }
   ],
   "source": [
    "print(len(CovidData))\n",
    "CovidData = CovidData[~CovidData.country.isin(countries_not_ok)]\n",
    "print(len(CovidData))"
   ]
  },
  {
   "cell_type": "markdown",
   "metadata": {},
   "source": [
    "And now we check all countries match"
   ]
  },
  {
   "cell_type": "code",
   "execution_count": 19,
   "metadata": {
    "scrolled": false
   },
   "outputs": [
    {
     "name": "stdout",
     "output_type": "stream",
     "text": [
      "155 Countries in CovidData\n",
      "227 Countries in ExtraData\n"
     ]
    }
   ],
   "source": [
    "CovidData_Countries, ExtraData_Countries = make_countries_list()"
   ]
  },
  {
   "cell_type": "code",
   "execution_count": 20,
   "metadata": {
    "scrolled": true
   },
   "outputs": [
    {
     "name": "stdout",
     "output_type": "stream",
     "text": [
      "155 number of countries that match\n",
      "0 number of countries that don´t match\n",
      "\n",
      "Countries that don´t match are:\n",
      "[]\n"
     ]
    }
   ],
   "source": [
    "countries_ok,countries_not_ok = check_countries(CovidData_Countries,ExtraData_Countries)"
   ]
  },
  {
   "cell_type": "code",
   "execution_count": 21,
   "metadata": {
    "scrolled": false
   },
   "outputs": [
    {
     "data": {
      "text/plain": [
       "Index(['Country', 'Region', 'Population', 'Area (sq. mi.)',\n",
       "       'Pop. Density (per sq. mi.)', 'Coastline (coast/area ratio)',\n",
       "       'Net migration', 'Infant mortality (per 1000 births)',\n",
       "       'GDP ($ per capita)', 'Literacy (%)', 'Phones (per 1000)', 'Arable (%)',\n",
       "       'Crops (%)', 'Other (%)', 'Climate', 'Birthrate', 'Deathrate',\n",
       "       'Agriculture', 'Industry', 'Service'],\n",
       "      dtype='object')"
      ]
     },
     "execution_count": 21,
     "metadata": {},
     "output_type": "execute_result"
    }
   ],
   "source": [
    "ExtraData.columns"
   ]
  },
  {
   "cell_type": "markdown",
   "metadata": {},
   "source": [
    "# Second extra dataset"
   ]
  },
  {
   "cell_type": "code",
   "execution_count": 22,
   "metadata": {},
   "outputs": [
    {
     "data": {
      "text/html": [
       "<div>\n",
       "<style scoped>\n",
       "    .dataframe tbody tr th:only-of-type {\n",
       "        vertical-align: middle;\n",
       "    }\n",
       "\n",
       "    .dataframe tbody tr th {\n",
       "        vertical-align: top;\n",
       "    }\n",
       "\n",
       "    .dataframe thead th {\n",
       "        text-align: right;\n",
       "    }\n",
       "</style>\n",
       "<table border=\"1\" class=\"dataframe\">\n",
       "  <thead>\n",
       "    <tr style=\"text-align: right;\">\n",
       "      <th></th>\n",
       "      <th>country</th>\n",
       "      <th>Region</th>\n",
       "      <th>Surface area (km2)</th>\n",
       "      <th>Population in thousands (2017)</th>\n",
       "      <th>Population density (per km2, 2017)</th>\n",
       "      <th>Sex ratio (m per 100 f, 2017)</th>\n",
       "      <th>GDP: Gross domestic product (million current US$)</th>\n",
       "      <th>GDP growth rate (annual %, const. 2005 prices)</th>\n",
       "      <th>GDP per capita (current US$)</th>\n",
       "      <th>Economy: Agriculture (% of GVA)</th>\n",
       "      <th>...</th>\n",
       "      <th>Mobile-cellular subscriptions (per 100 inhabitants).1</th>\n",
       "      <th>Individuals using the Internet (per 100 inhabitants)</th>\n",
       "      <th>Threatened species (number)</th>\n",
       "      <th>Forested area (% of land area)</th>\n",
       "      <th>CO2 emission estimates (million tons/tons per capita)</th>\n",
       "      <th>Energy production, primary (Petajoules)</th>\n",
       "      <th>Energy supply per capita (Gigajoules)</th>\n",
       "      <th>Pop. using improved drinking water (urban/rural, %)</th>\n",
       "      <th>Pop. using improved sanitation facilities (urban/rural, %)</th>\n",
       "      <th>Net Official Development Assist. received (% of GNI)</th>\n",
       "    </tr>\n",
       "  </thead>\n",
       "  <tbody>\n",
       "    <tr>\n",
       "      <th>0</th>\n",
       "      <td>Afghanistan</td>\n",
       "      <td>SouthernAsia</td>\n",
       "      <td>652864</td>\n",
       "      <td>35530</td>\n",
       "      <td>54.4</td>\n",
       "      <td>106.3</td>\n",
       "      <td>20270</td>\n",
       "      <td>-2.4</td>\n",
       "      <td>623.2</td>\n",
       "      <td>23.3</td>\n",
       "      <td>...</td>\n",
       "      <td>8.3</td>\n",
       "      <td>42</td>\n",
       "      <td>2.1</td>\n",
       "      <td>9.8/0.3</td>\n",
       "      <td>63</td>\n",
       "      <td>5</td>\n",
       "      <td>78.2/47.0</td>\n",
       "      <td>45.1/27.0</td>\n",
       "      <td>21.43</td>\n",
       "      <td>-99</td>\n",
       "    </tr>\n",
       "    <tr>\n",
       "      <th>1</th>\n",
       "      <td>Albania</td>\n",
       "      <td>SouthernEurope</td>\n",
       "      <td>28748</td>\n",
       "      <td>2930</td>\n",
       "      <td>106.9</td>\n",
       "      <td>101.9</td>\n",
       "      <td>11541</td>\n",
       "      <td>2.6</td>\n",
       "      <td>3984.2</td>\n",
       "      <td>22.4</td>\n",
       "      <td>...</td>\n",
       "      <td>63.3</td>\n",
       "      <td>130</td>\n",
       "      <td>28.2</td>\n",
       "      <td>5.7/2.0</td>\n",
       "      <td>84</td>\n",
       "      <td>36</td>\n",
       "      <td>94.9/95.2</td>\n",
       "      <td>95.5/90.2</td>\n",
       "      <td>2.96</td>\n",
       "      <td>-99</td>\n",
       "    </tr>\n",
       "    <tr>\n",
       "      <th>2</th>\n",
       "      <td>Algeria</td>\n",
       "      <td>NorthernAfrica</td>\n",
       "      <td>2381741</td>\n",
       "      <td>41318</td>\n",
       "      <td>17.3</td>\n",
       "      <td>102.0</td>\n",
       "      <td>164779</td>\n",
       "      <td>3.8</td>\n",
       "      <td>4154.1</td>\n",
       "      <td>12.2</td>\n",
       "      <td>...</td>\n",
       "      <td>38.2</td>\n",
       "      <td>135</td>\n",
       "      <td>0.8</td>\n",
       "      <td>145.4/3.7</td>\n",
       "      <td>5900</td>\n",
       "      <td>55</td>\n",
       "      <td>84.3/81.8</td>\n",
       "      <td>89.8/82.2</td>\n",
       "      <td>0.05</td>\n",
       "      <td>-99</td>\n",
       "    </tr>\n",
       "    <tr>\n",
       "      <th>3</th>\n",
       "      <td>American Samoa</td>\n",
       "      <td>Polynesia</td>\n",
       "      <td>199</td>\n",
       "      <td>56</td>\n",
       "      <td>278.2</td>\n",
       "      <td>103.6</td>\n",
       "      <td>-99</td>\n",
       "      <td>-99</td>\n",
       "      <td>-99.0</td>\n",
       "      <td>-99</td>\n",
       "      <td>...</td>\n",
       "      <td>-99</td>\n",
       "      <td>92</td>\n",
       "      <td>87.9</td>\n",
       "      <td>-99</td>\n",
       "      <td>-99</td>\n",
       "      <td>-99</td>\n",
       "      <td>100.0/100.0</td>\n",
       "      <td>62.5/62.5</td>\n",
       "      <td>-99</td>\n",
       "      <td>-99</td>\n",
       "    </tr>\n",
       "    <tr>\n",
       "      <th>4</th>\n",
       "      <td>Andorra</td>\n",
       "      <td>SouthernEurope</td>\n",
       "      <td>468</td>\n",
       "      <td>77</td>\n",
       "      <td>163.8</td>\n",
       "      <td>102.3</td>\n",
       "      <td>2812</td>\n",
       "      <td>0.8</td>\n",
       "      <td>39896.4</td>\n",
       "      <td>0.5</td>\n",
       "      <td>...</td>\n",
       "      <td>96.9</td>\n",
       "      <td>13</td>\n",
       "      <td>34.0</td>\n",
       "      <td>0.5/6.4</td>\n",
       "      <td>1</td>\n",
       "      <td>119</td>\n",
       "      <td>100.0/100.0</td>\n",
       "      <td>100.0/100.0</td>\n",
       "      <td>-99</td>\n",
       "      <td>-99</td>\n",
       "    </tr>\n",
       "  </tbody>\n",
       "</table>\n",
       "<p>5 rows × 50 columns</p>\n",
       "</div>"
      ],
      "text/plain": [
       "          country          Region Surface area (km2)  \\\n",
       "0     Afghanistan    SouthernAsia             652864   \n",
       "1         Albania  SouthernEurope              28748   \n",
       "2         Algeria  NorthernAfrica            2381741   \n",
       "3  American Samoa       Polynesia                199   \n",
       "4         Andorra  SouthernEurope                468   \n",
       "\n",
       "   Population in thousands (2017)  Population density (per km2, 2017)  \\\n",
       "0                           35530                                54.4   \n",
       "1                            2930                               106.9   \n",
       "2                           41318                                17.3   \n",
       "3                              56                               278.2   \n",
       "4                              77                               163.8   \n",
       "\n",
       "   Sex ratio (m per 100 f, 2017)  \\\n",
       "0                          106.3   \n",
       "1                          101.9   \n",
       "2                          102.0   \n",
       "3                          103.6   \n",
       "4                          102.3   \n",
       "\n",
       "   GDP: Gross domestic product (million current US$)  \\\n",
       "0                                              20270   \n",
       "1                                              11541   \n",
       "2                                             164779   \n",
       "3                                                -99   \n",
       "4                                               2812   \n",
       "\n",
       "  GDP growth rate (annual %, const. 2005 prices)  \\\n",
       "0                                           -2.4   \n",
       "1                                            2.6   \n",
       "2                                            3.8   \n",
       "3                                            -99   \n",
       "4                                            0.8   \n",
       "\n",
       "   GDP per capita (current US$) Economy: Agriculture (% of GVA)  ...  \\\n",
       "0                         623.2                            23.3  ...   \n",
       "1                        3984.2                            22.4  ...   \n",
       "2                        4154.1                            12.2  ...   \n",
       "3                         -99.0                             -99  ...   \n",
       "4                       39896.4                             0.5  ...   \n",
       "\n",
       "   Mobile-cellular subscriptions (per 100 inhabitants).1  \\\n",
       "0                                                8.3       \n",
       "1                                               63.3       \n",
       "2                                               38.2       \n",
       "3                                                -99       \n",
       "4                                               96.9       \n",
       "\n",
       "   Individuals using the Internet (per 100 inhabitants)  \\\n",
       "0                                                 42      \n",
       "1                                                130      \n",
       "2                                                135      \n",
       "3                                                 92      \n",
       "4                                                 13      \n",
       "\n",
       "  Threatened species (number) Forested area (% of land area)  \\\n",
       "0                         2.1                        9.8/0.3   \n",
       "1                        28.2                        5.7/2.0   \n",
       "2                         0.8                      145.4/3.7   \n",
       "3                        87.9                            -99   \n",
       "4                        34.0                        0.5/6.4   \n",
       "\n",
       "  CO2 emission estimates (million tons/tons per capita)  \\\n",
       "0                                                 63      \n",
       "1                                                 84      \n",
       "2                                               5900      \n",
       "3                                                -99      \n",
       "4                                                  1      \n",
       "\n",
       "  Energy production, primary (Petajoules)  \\\n",
       "0                                       5   \n",
       "1                                      36   \n",
       "2                                      55   \n",
       "3                                     -99   \n",
       "4                                     119   \n",
       "\n",
       "  Energy supply per capita (Gigajoules)  \\\n",
       "0                             78.2/47.0   \n",
       "1                             94.9/95.2   \n",
       "2                             84.3/81.8   \n",
       "3                           100.0/100.0   \n",
       "4                           100.0/100.0   \n",
       "\n",
       "   Pop. using improved drinking water (urban/rural, %)  \\\n",
       "0                                          45.1/27.0     \n",
       "1                                          95.5/90.2     \n",
       "2                                          89.8/82.2     \n",
       "3                                          62.5/62.5     \n",
       "4                                        100.0/100.0     \n",
       "\n",
       "   Pop. using improved sanitation facilities (urban/rural, %)  \\\n",
       "0                                              21.43            \n",
       "1                                               2.96            \n",
       "2                                               0.05            \n",
       "3                                                -99            \n",
       "4                                                -99            \n",
       "\n",
       "  Net Official Development Assist. received (% of GNI)  \n",
       "0                                                -99    \n",
       "1                                                -99    \n",
       "2                                                -99    \n",
       "3                                                -99    \n",
       "4                                                -99    \n",
       "\n",
       "[5 rows x 50 columns]"
      ]
     },
     "execution_count": 22,
     "metadata": {},
     "output_type": "execute_result"
    }
   ],
   "source": [
    "ExtraData2.head()"
   ]
  },
  {
   "cell_type": "code",
   "execution_count": 23,
   "metadata": {},
   "outputs": [],
   "source": [
    "def make_countries_list():\n",
    "    country_CovidData = list(CovidData['country'].unique())\n",
    "    country_ExtraData = list(ExtraData2['country'].unique())\n",
    "    print(str(len(country_CovidData))+ \" Countries in CovidData\\n\" + str(len(country_ExtraData)) + \" Countries in ExtraData2\")\n",
    "    return country_CovidData,country_ExtraData"
   ]
  },
  {
   "cell_type": "code",
   "execution_count": 24,
   "metadata": {},
   "outputs": [],
   "source": [
    "def replace_countries(Countries_not_match,Countries_to_replace):\n",
    "    for i in range(len(Countries_not_match)):\n",
    "        ExtraData2.replace(Countries_not_match[i],Countries_to_replace[i],inplace=True)"
   ]
  },
  {
   "cell_type": "code",
   "execution_count": 25,
   "metadata": {},
   "outputs": [
    {
     "name": "stdout",
     "output_type": "stream",
     "text": [
      "155 Countries in CovidData\n",
      "229 Countries in ExtraData2\n"
     ]
    }
   ],
   "source": [
    "CovidData_Countries, ExtraData_Countries = make_countries_list()"
   ]
  },
  {
   "cell_type": "code",
   "execution_count": 26,
   "metadata": {
    "scrolled": true
   },
   "outputs": [
    {
     "name": "stdout",
     "output_type": "stream",
     "text": [
      "134 number of countries that match\n",
      "21 number of countries that don´t match\n",
      "\n",
      "Countries that don´t match are:\n",
      "['Bolivia', 'Brunei', 'Cape Verde', \"Cote d'Ivoire\", 'Faeroe Islands', 'Guernsey', 'Hong Kong', 'Iran', 'Jersey', 'Laos', 'Macao', 'Moldova', 'North Macedonia', 'Northern Cyprus', 'Northern Ireland', 'Russia', 'South Korea', 'Taiwan', 'United States', 'Venezuela', 'Vietnam']\n"
     ]
    }
   ],
   "source": [
    "countries_ok,countries_not_ok = check_countries(CovidData_Countries,ExtraData_Countries)"
   ]
  },
  {
   "cell_type": "code",
   "execution_count": 27,
   "metadata": {},
   "outputs": [
    {
     "name": "stdout",
     "output_type": "stream",
     "text": [
      "['Afghanistan' 'Albania' 'Algeria' 'American Samoa' 'Andorra' 'Angola'\n",
      " 'Anguilla' 'Antigua and Barbuda' 'Argentina' 'Armenia' 'Aruba'\n",
      " 'Australia' 'Austria' 'Azerbaijan' 'Bahamas' 'Bahrain' 'Bangladesh'\n",
      " 'Barbados' 'Belarus' 'Belgium' 'Belize' 'Benin' 'Bermuda' 'Bhutan'\n",
      " 'Bolivia (Plurinational State of)' 'Bonaire, Sint Eustatius and Saba'\n",
      " 'Bosnia and Herzegovina' 'Botswana' 'Brazil' 'British Virgin Islands'\n",
      " 'Brunei Darussalam' 'Bulgaria' 'Burkina Faso' 'Burundi' 'Cabo Verde'\n",
      " 'Cambodia' 'Cameroon' 'Canada' 'Cayman Islands'\n",
      " 'Central African Republic' 'Chad' 'Channel Islands' 'Chile'\n",
      " 'China, Hong Kong SAR' 'China, Macao SAR' 'China' 'Colombia' 'Comoros'\n",
      " 'Congo' 'Cook Islands' 'Costa Rica' 'Croatia' 'Cuba' 'Cyprus' 'Czechia'\n",
      " \"Democratic People's Republic of Korea\"\n",
      " 'Democratic Republic of the Congo' 'Denmark' 'Djibouti' 'Dominica'\n",
      " 'Dominican Republic' 'Ecuador' 'Egypt' 'El Salvador' 'Equatorial Guinea'\n",
      " 'Eritrea' 'Estonia' 'Ethiopia' 'Falkland Islands (Malvinas)'\n",
      " 'Faroe Islands' 'Fiji' 'Finland' 'France' 'French Guiana'\n",
      " 'French Polynesia' 'Gabon' 'Gambia' 'Georgia' 'Germany' 'Ghana'\n",
      " 'Gibraltar' 'Greece' 'Greenland' 'Grenada' 'Guadeloupe' 'Guam'\n",
      " 'Guatemala' 'Guinea-Bissau' 'Guinea' 'Guyana' 'Haiti' 'Holy See'\n",
      " 'Honduras' 'Hungary' 'Iceland' 'India' 'Indonesia'\n",
      " 'Iran (Islamic Republic of)' 'Iraq' 'Ireland' 'Isle of Man' 'Israel'\n",
      " 'Italy' 'Jamaica' 'Japan' 'Jordan' 'Kazakhstan' 'Kenya' 'Kiribati'\n",
      " 'Kuwait' 'Kyrgyzstan' \"Lao People's Democratic Republic\" 'Latvia'\n",
      " 'Lebanon' 'Lesotho' 'Liberia' 'Libya' 'Liechtenstein' 'Lithuania'\n",
      " 'Luxembourg' 'Madagascar' 'Malawi' 'Malaysia' 'Maldives' 'Mali' 'Malta'\n",
      " 'Marshall Islands' 'Martinique' 'Mauritania' 'Mauritius' 'Mayotte'\n",
      " 'Mexico' 'Micronesia (Federated States of)' 'Monaco' 'Mongolia'\n",
      " 'Montenegro' 'Montserrat' 'Morocco' 'Mozambique' 'Myanmar' 'Namibia'\n",
      " 'Nauru' 'Nepal' 'Netherlands' 'New Caledonia' 'New Zealand' 'Nicaragua'\n",
      " 'Niger' 'Nigeria' 'Niue' 'Northern Mariana Islands' 'Norway' 'Oman'\n",
      " 'Pakistan' 'Palau' 'Panama' 'Papua New Guinea' 'Paraguay' 'Peru'\n",
      " 'Philippines' 'Poland' 'Portugal' 'Puerto Rico' 'Qatar'\n",
      " 'Republic of Korea' 'Republic of Moldova' 'Romania' 'Russian Federation'\n",
      " 'Rwanda' 'Saint Helena' 'Saint Kitts and Nevis' 'Saint Lucia'\n",
      " 'Saint Pierre and Miquelon' 'Saint Vincent and the Grenadines' 'Samoa'\n",
      " 'San Marino' 'Sao Tome and Principe' 'Saudi Arabia' 'Senegal' 'Serbia'\n",
      " 'Seychelles' 'Sierra Leone' 'Singapore' 'Sint Maarten (Dutch part)'\n",
      " 'Slovakia' 'Slovenia' 'Solomon Islands' 'Somalia' 'South Africa'\n",
      " 'South Sudan' 'Spain' 'Sri Lanka' 'State of Palestine' 'Sudan' 'Suriname'\n",
      " 'Swaziland' 'Sweden' 'Switzerland' 'Syrian Arab Republic' 'Tajikistan'\n",
      " 'Thailand' 'The former Yugoslav Republic of Macedonia' 'Timor-Leste'\n",
      " 'Togo' 'Tokelau' 'Tonga' 'Trinidad and Tobago' 'Tunisia' 'Turkey'\n",
      " 'Turkmenistan' 'Turks and Caicos Islands' 'Tuvalu' 'Uganda' 'Ukraine'\n",
      " 'United Arab Emirates' 'United Kingdom' 'United Republic of Tanzania'\n",
      " 'United States of America' 'United States Virgin Islands' 'Uruguay'\n",
      " 'Uzbekistan' 'Vanuatu' 'Venezuela (Bolivarian Republic of)' 'Viet Nam'\n",
      " 'Wallis and Futuna Islands' 'Western Sahara' 'Yemen' 'Zambia' 'Zimbabwe']\n"
     ]
    }
   ],
   "source": [
    "print(ExtraData2[\"country\"].unique())"
   ]
  },
  {
   "cell_type": "code",
   "execution_count": 28,
   "metadata": {},
   "outputs": [],
   "source": [
    "#Country names that have to be change in ExtraData dataset so they fit country names in CovidData\n",
    "\n",
    "Countries_not_match = ['Bolivia (Plurinational State of)','Brunei Darussalam','Cabo Verde','Faroe Islands',\n",
    "                      'Iran (Islamic Republic of)',\"Lao People's Democratic Republic\",'Republic of Moldova',\n",
    "                      'Cyprus','Russian Federation','Republic of Korea','United States of America',\n",
    "                      'Venezuela (Bolivarian Republic of)','Viet Nam']\n",
    "\n",
    "#Countries that will be dropped in Covid Dataset because they don´t exist in ExtraData\n",
    "Countries_not_ex = [\"Cote d'Ivoire\",'Guernsey','Hong Kong','Jersey','Macao','North Macedonia','Northern Ireland',\n",
    "                   'Taiwan']"
   ]
  },
  {
   "cell_type": "code",
   "execution_count": 29,
   "metadata": {},
   "outputs": [
    {
     "name": "stdout",
     "output_type": "stream",
     "text": [
      "8930\n",
      "8500\n"
     ]
    }
   ],
   "source": [
    "print(len(CovidData))\n",
    "CovidData = CovidData[~CovidData.country.isin(Countries_not_ex)]\n",
    "print(len(CovidData))"
   ]
  },
  {
   "cell_type": "code",
   "execution_count": 30,
   "metadata": {},
   "outputs": [
    {
     "name": "stdout",
     "output_type": "stream",
     "text": [
      "['Bolivia', 'Brunei', 'Cape Verde', 'Faeroe Islands', 'Iran', 'Laos', 'Moldova', 'Northern Cyprus', 'Russia', 'South Korea', 'United States', 'Venezuela', 'Vietnam']\n"
     ]
    }
   ],
   "source": [
    " Countries_to_replace = drop_from_list(Countries_not_ex,countries_not_ok)"
   ]
  },
  {
   "cell_type": "code",
   "execution_count": 31,
   "metadata": {},
   "outputs": [],
   "source": [
    "replace_countries(Countries_not_match,Countries_to_replace)"
   ]
  },
  {
   "cell_type": "code",
   "execution_count": 32,
   "metadata": {},
   "outputs": [
    {
     "name": "stdout",
     "output_type": "stream",
     "text": [
      "147 Countries in CovidData\n",
      "229 Countries in ExtraData2\n"
     ]
    }
   ],
   "source": [
    "CovidData_Countries, ExtraData_Countries = make_countries_list()"
   ]
  },
  {
   "cell_type": "code",
   "execution_count": 33,
   "metadata": {},
   "outputs": [
    {
     "name": "stdout",
     "output_type": "stream",
     "text": [
      "147 number of countries that match\n",
      "0 number of countries that don´t match\n",
      "\n",
      "Countries that don´t match are:\n",
      "[]\n"
     ]
    }
   ],
   "source": [
    "countries_ok,countries_not_ok = check_countries(CovidData_Countries,ExtraData_Countries)"
   ]
  },
  {
   "cell_type": "code",
   "execution_count": 34,
   "metadata": {},
   "outputs": [
    {
     "data": {
      "text/plain": [
       "Index(['Country', 'Region', 'Population', 'Area (sq. mi.)',\n",
       "       'Pop. Density (per sq. mi.)', 'Coastline (coast/area ratio)',\n",
       "       'Net migration', 'Infant mortality (per 1000 births)',\n",
       "       'GDP ($ per capita)', 'Literacy (%)', 'Phones (per 1000)', 'Arable (%)',\n",
       "       'Crops (%)', 'Other (%)', 'Climate', 'Birthrate', 'Deathrate',\n",
       "       'Agriculture', 'Industry', 'Service'],\n",
       "      dtype='object')"
      ]
     },
     "execution_count": 34,
     "metadata": {},
     "output_type": "execute_result"
    }
   ],
   "source": [
    "ExtraData.columns"
   ]
  },
  {
   "cell_type": "code",
   "execution_count": 35,
   "metadata": {},
   "outputs": [
    {
     "data": {
      "text/plain": [
       "Index(['country', 'Region', 'Surface area (km2)',\n",
       "       'Population in thousands (2017)', 'Population density (per km2, 2017)',\n",
       "       'Sex ratio (m per 100 f, 2017)',\n",
       "       'GDP: Gross domestic product (million current US$)',\n",
       "       'GDP growth rate (annual %, const. 2005 prices)',\n",
       "       'GDP per capita (current US$)', 'Economy: Agriculture (% of GVA)',\n",
       "       'Economy: Industry (% of GVA)',\n",
       "       'Economy: Services and other activity (% of GVA)',\n",
       "       'Employment: Agriculture (% of employed)',\n",
       "       'Employment: Industry (% of employed)',\n",
       "       'Employment: Services (% of employed)',\n",
       "       'Unemployment (% of labour force)',\n",
       "       'Labour force participation (female/male pop. %)',\n",
       "       'Agricultural production index (2004-2006=100)',\n",
       "       'Food production index (2004-2006=100)',\n",
       "       'International trade: Exports (million US$)',\n",
       "       'International trade: Imports (million US$)',\n",
       "       'International trade: Balance (million US$)',\n",
       "       'Balance of payments, current account (million US$)',\n",
       "       'Population growth rate (average annual %)',\n",
       "       'Urban population (% of total population)',\n",
       "       'Urban population growth rate (average annual %)',\n",
       "       'Fertility rate, total (live births per woman)',\n",
       "       'Life expectancy at birth (females/males, years)',\n",
       "       'Population age distribution (0-14 / 60+ years, %)',\n",
       "       'International migrant stock (000/% of total pop.)',\n",
       "       'Refugees and others of concern to UNHCR (in thousands)',\n",
       "       'Infant mortality rate (per 1000 live births',\n",
       "       'Health: Total expenditure (% of GDP)',\n",
       "       'Health: Physicians (per 1000 pop.)',\n",
       "       'Education: Government expenditure (% of GDP)',\n",
       "       'Education: Primary gross enrol. ratio (f/m per 100 pop.)',\n",
       "       'Education: Secondary gross enrol. ratio (f/m per 100 pop.)',\n",
       "       'Education: Tertiary gross enrol. ratio (f/m per 100 pop.)',\n",
       "       'Seats held by women in national parliaments %',\n",
       "       'Mobile-cellular subscriptions (per 100 inhabitants)',\n",
       "       'Mobile-cellular subscriptions (per 100 inhabitants).1',\n",
       "       'Individuals using the Internet (per 100 inhabitants)',\n",
       "       'Threatened species (number)', 'Forested area (% of land area)',\n",
       "       'CO2 emission estimates (million tons/tons per capita)',\n",
       "       'Energy production, primary (Petajoules)',\n",
       "       'Energy supply per capita (Gigajoules)',\n",
       "       'Pop. using improved drinking water (urban/rural, %)',\n",
       "       'Pop. using improved sanitation facilities (urban/rural, %)',\n",
       "       'Net Official Development Assist. received (% of GNI)'],\n",
       "      dtype='object')"
      ]
     },
     "execution_count": 35,
     "metadata": {},
     "output_type": "execute_result"
    }
   ],
   "source": [
    "ExtraData2.columns"
   ]
  },
  {
   "cell_type": "code",
   "execution_count": 36,
   "metadata": {},
   "outputs": [
    {
     "data": {
      "text/plain": [
       "0     43.2/4.1\n",
       "1    17.4/19.0\n",
       "2     29.3/9.4\n",
       "3     33.3/9.0\n",
       "4    14.4/19.0\n",
       "5     46.8/4.0\n",
       "6     23.3/7.6\n",
       "7    23.9/10.9\n",
       "8    24.9/15.4\n",
       "9    20.0/16.9\n",
       "Name: Population age distribution (0-14 / 60+ years, %), dtype: object"
      ]
     },
     "execution_count": 36,
     "metadata": {},
     "output_type": "execute_result"
    }
   ],
   "source": [
    "ExtraData2['Population age distribution (0-14 / 60+ years, %)'].head(10)"
   ]
  },
  {
   "cell_type": "code",
   "execution_count": 37,
   "metadata": {},
   "outputs": [
    {
     "data": {
      "text/html": [
       "<div>\n",
       "<style scoped>\n",
       "    .dataframe tbody tr th:only-of-type {\n",
       "        vertical-align: middle;\n",
       "    }\n",
       "\n",
       "    .dataframe tbody tr th {\n",
       "        vertical-align: top;\n",
       "    }\n",
       "\n",
       "    .dataframe thead th {\n",
       "        text-align: right;\n",
       "    }\n",
       "</style>\n",
       "<table border=\"1\" class=\"dataframe\">\n",
       "  <thead>\n",
       "    <tr style=\"text-align: right;\">\n",
       "      <th></th>\n",
       "      <th>country</th>\n",
       "      <th>Region</th>\n",
       "      <th>Surface area (km2)</th>\n",
       "      <th>Population in thousands (2017)</th>\n",
       "      <th>Population density (per km2, 2017)</th>\n",
       "      <th>Sex ratio (m per 100 f, 2017)</th>\n",
       "      <th>GDP: Gross domestic product (million current US$)</th>\n",
       "      <th>GDP growth rate (annual %, const. 2005 prices)</th>\n",
       "      <th>GDP per capita (current US$)</th>\n",
       "      <th>Economy: Agriculture (% of GVA)</th>\n",
       "      <th>...</th>\n",
       "      <th>Mobile-cellular subscriptions (per 100 inhabitants).1</th>\n",
       "      <th>Individuals using the Internet (per 100 inhabitants)</th>\n",
       "      <th>Threatened species (number)</th>\n",
       "      <th>Forested area (% of land area)</th>\n",
       "      <th>CO2 emission estimates (million tons/tons per capita)</th>\n",
       "      <th>Energy production, primary (Petajoules)</th>\n",
       "      <th>Energy supply per capita (Gigajoules)</th>\n",
       "      <th>Pop. using improved drinking water (urban/rural, %)</th>\n",
       "      <th>Pop. using improved sanitation facilities (urban/rural, %)</th>\n",
       "      <th>Net Official Development Assist. received (% of GNI)</th>\n",
       "    </tr>\n",
       "  </thead>\n",
       "  <tbody>\n",
       "    <tr>\n",
       "      <th>0</th>\n",
       "      <td>Afghanistan</td>\n",
       "      <td>SouthernAsia</td>\n",
       "      <td>652864</td>\n",
       "      <td>35530</td>\n",
       "      <td>54.4</td>\n",
       "      <td>106.3</td>\n",
       "      <td>20270</td>\n",
       "      <td>-2.4</td>\n",
       "      <td>623.2</td>\n",
       "      <td>23.3</td>\n",
       "      <td>...</td>\n",
       "      <td>8.3</td>\n",
       "      <td>42</td>\n",
       "      <td>2.1</td>\n",
       "      <td>9.8/0.3</td>\n",
       "      <td>63</td>\n",
       "      <td>5</td>\n",
       "      <td>78.2/47.0</td>\n",
       "      <td>45.1/27.0</td>\n",
       "      <td>21.43</td>\n",
       "      <td>-99</td>\n",
       "    </tr>\n",
       "    <tr>\n",
       "      <th>1</th>\n",
       "      <td>Albania</td>\n",
       "      <td>SouthernEurope</td>\n",
       "      <td>28748</td>\n",
       "      <td>2930</td>\n",
       "      <td>106.9</td>\n",
       "      <td>101.9</td>\n",
       "      <td>11541</td>\n",
       "      <td>2.6</td>\n",
       "      <td>3984.2</td>\n",
       "      <td>22.4</td>\n",
       "      <td>...</td>\n",
       "      <td>63.3</td>\n",
       "      <td>130</td>\n",
       "      <td>28.2</td>\n",
       "      <td>5.7/2.0</td>\n",
       "      <td>84</td>\n",
       "      <td>36</td>\n",
       "      <td>94.9/95.2</td>\n",
       "      <td>95.5/90.2</td>\n",
       "      <td>2.96</td>\n",
       "      <td>-99</td>\n",
       "    </tr>\n",
       "    <tr>\n",
       "      <th>2</th>\n",
       "      <td>Algeria</td>\n",
       "      <td>NorthernAfrica</td>\n",
       "      <td>2381741</td>\n",
       "      <td>41318</td>\n",
       "      <td>17.3</td>\n",
       "      <td>102.0</td>\n",
       "      <td>164779</td>\n",
       "      <td>3.8</td>\n",
       "      <td>4154.1</td>\n",
       "      <td>12.2</td>\n",
       "      <td>...</td>\n",
       "      <td>38.2</td>\n",
       "      <td>135</td>\n",
       "      <td>0.8</td>\n",
       "      <td>145.4/3.7</td>\n",
       "      <td>5900</td>\n",
       "      <td>55</td>\n",
       "      <td>84.3/81.8</td>\n",
       "      <td>89.8/82.2</td>\n",
       "      <td>0.05</td>\n",
       "      <td>-99</td>\n",
       "    </tr>\n",
       "    <tr>\n",
       "      <th>3</th>\n",
       "      <td>American Samoa</td>\n",
       "      <td>Polynesia</td>\n",
       "      <td>199</td>\n",
       "      <td>56</td>\n",
       "      <td>278.2</td>\n",
       "      <td>103.6</td>\n",
       "      <td>-99</td>\n",
       "      <td>-99</td>\n",
       "      <td>-99.0</td>\n",
       "      <td>-99</td>\n",
       "      <td>...</td>\n",
       "      <td>-99</td>\n",
       "      <td>92</td>\n",
       "      <td>87.9</td>\n",
       "      <td>-99</td>\n",
       "      <td>-99</td>\n",
       "      <td>-99</td>\n",
       "      <td>100.0/100.0</td>\n",
       "      <td>62.5/62.5</td>\n",
       "      <td>-99</td>\n",
       "      <td>-99</td>\n",
       "    </tr>\n",
       "    <tr>\n",
       "      <th>4</th>\n",
       "      <td>Andorra</td>\n",
       "      <td>SouthernEurope</td>\n",
       "      <td>468</td>\n",
       "      <td>77</td>\n",
       "      <td>163.8</td>\n",
       "      <td>102.3</td>\n",
       "      <td>2812</td>\n",
       "      <td>0.8</td>\n",
       "      <td>39896.4</td>\n",
       "      <td>0.5</td>\n",
       "      <td>...</td>\n",
       "      <td>96.9</td>\n",
       "      <td>13</td>\n",
       "      <td>34.0</td>\n",
       "      <td>0.5/6.4</td>\n",
       "      <td>1</td>\n",
       "      <td>119</td>\n",
       "      <td>100.0/100.0</td>\n",
       "      <td>100.0/100.0</td>\n",
       "      <td>-99</td>\n",
       "      <td>-99</td>\n",
       "    </tr>\n",
       "  </tbody>\n",
       "</table>\n",
       "<p>5 rows × 50 columns</p>\n",
       "</div>"
      ],
      "text/plain": [
       "          country          Region Surface area (km2)  \\\n",
       "0     Afghanistan    SouthernAsia             652864   \n",
       "1         Albania  SouthernEurope              28748   \n",
       "2         Algeria  NorthernAfrica            2381741   \n",
       "3  American Samoa       Polynesia                199   \n",
       "4         Andorra  SouthernEurope                468   \n",
       "\n",
       "   Population in thousands (2017)  Population density (per km2, 2017)  \\\n",
       "0                           35530                                54.4   \n",
       "1                            2930                               106.9   \n",
       "2                           41318                                17.3   \n",
       "3                              56                               278.2   \n",
       "4                              77                               163.8   \n",
       "\n",
       "   Sex ratio (m per 100 f, 2017)  \\\n",
       "0                          106.3   \n",
       "1                          101.9   \n",
       "2                          102.0   \n",
       "3                          103.6   \n",
       "4                          102.3   \n",
       "\n",
       "   GDP: Gross domestic product (million current US$)  \\\n",
       "0                                              20270   \n",
       "1                                              11541   \n",
       "2                                             164779   \n",
       "3                                                -99   \n",
       "4                                               2812   \n",
       "\n",
       "  GDP growth rate (annual %, const. 2005 prices)  \\\n",
       "0                                           -2.4   \n",
       "1                                            2.6   \n",
       "2                                            3.8   \n",
       "3                                            -99   \n",
       "4                                            0.8   \n",
       "\n",
       "   GDP per capita (current US$) Economy: Agriculture (% of GVA)  ...  \\\n",
       "0                         623.2                            23.3  ...   \n",
       "1                        3984.2                            22.4  ...   \n",
       "2                        4154.1                            12.2  ...   \n",
       "3                         -99.0                             -99  ...   \n",
       "4                       39896.4                             0.5  ...   \n",
       "\n",
       "   Mobile-cellular subscriptions (per 100 inhabitants).1  \\\n",
       "0                                                8.3       \n",
       "1                                               63.3       \n",
       "2                                               38.2       \n",
       "3                                                -99       \n",
       "4                                               96.9       \n",
       "\n",
       "   Individuals using the Internet (per 100 inhabitants)  \\\n",
       "0                                                 42      \n",
       "1                                                130      \n",
       "2                                                135      \n",
       "3                                                 92      \n",
       "4                                                 13      \n",
       "\n",
       "  Threatened species (number) Forested area (% of land area)  \\\n",
       "0                         2.1                        9.8/0.3   \n",
       "1                        28.2                        5.7/2.0   \n",
       "2                         0.8                      145.4/3.7   \n",
       "3                        87.9                            -99   \n",
       "4                        34.0                        0.5/6.4   \n",
       "\n",
       "  CO2 emission estimates (million tons/tons per capita)  \\\n",
       "0                                                 63      \n",
       "1                                                 84      \n",
       "2                                               5900      \n",
       "3                                                -99      \n",
       "4                                                  1      \n",
       "\n",
       "  Energy production, primary (Petajoules)  \\\n",
       "0                                       5   \n",
       "1                                      36   \n",
       "2                                      55   \n",
       "3                                     -99   \n",
       "4                                     119   \n",
       "\n",
       "  Energy supply per capita (Gigajoules)  \\\n",
       "0                             78.2/47.0   \n",
       "1                             94.9/95.2   \n",
       "2                             84.3/81.8   \n",
       "3                           100.0/100.0   \n",
       "4                           100.0/100.0   \n",
       "\n",
       "   Pop. using improved drinking water (urban/rural, %)  \\\n",
       "0                                          45.1/27.0     \n",
       "1                                          95.5/90.2     \n",
       "2                                          89.8/82.2     \n",
       "3                                          62.5/62.5     \n",
       "4                                        100.0/100.0     \n",
       "\n",
       "   Pop. using improved sanitation facilities (urban/rural, %)  \\\n",
       "0                                              21.43            \n",
       "1                                               2.96            \n",
       "2                                               0.05            \n",
       "3                                                -99            \n",
       "4                                                -99            \n",
       "\n",
       "  Net Official Development Assist. received (% of GNI)  \n",
       "0                                                -99    \n",
       "1                                                -99    \n",
       "2                                                -99    \n",
       "3                                                -99    \n",
       "4                                                -99    \n",
       "\n",
       "[5 rows x 50 columns]"
      ]
     },
     "execution_count": 37,
     "metadata": {},
     "output_type": "execute_result"
    }
   ],
   "source": [
    "ExtraData2.head()"
   ]
  },
  {
   "cell_type": "code",
   "execution_count": 38,
   "metadata": {},
   "outputs": [
    {
     "data": {
      "text/plain": [
       "Index(['country', 'iso_code', 'date', 'total_vaccinations',\n",
       "       'people_vaccinated', 'people_fully_vaccinated',\n",
       "       'daily_vaccinations_raw', 'daily_vaccinations',\n",
       "       'total_vaccinations_per_hundred', 'people_vaccinated_per_hundred',\n",
       "       'people_fully_vaccinated_per_hundred', 'daily_vaccinations_per_million',\n",
       "       'vaccines', 'source_name', 'source_website'],\n",
       "      dtype='object')"
      ]
     },
     "execution_count": 38,
     "metadata": {},
     "output_type": "execute_result"
    }
   ],
   "source": [
    "CovidData.columns"
   ]
  },
  {
   "cell_type": "code",
   "execution_count": 39,
   "metadata": {},
   "outputs": [
    {
     "data": {
      "text/plain": [
       "0       Oxford/AstraZeneca\n",
       "1       Oxford/AstraZeneca\n",
       "2       Oxford/AstraZeneca\n",
       "3       Oxford/AstraZeneca\n",
       "4       Oxford/AstraZeneca\n",
       "               ...        \n",
       "9571     Sinopharm/Beijing\n",
       "9572     Sinopharm/Beijing\n",
       "9573     Sinopharm/Beijing\n",
       "9574     Sinopharm/Beijing\n",
       "9575     Sinopharm/Beijing\n",
       "Name: vaccines, Length: 8500, dtype: object"
      ]
     },
     "execution_count": 39,
     "metadata": {},
     "output_type": "execute_result"
    }
   ],
   "source": [
    "CovidData['vaccines']"
   ]
  },
  {
   "cell_type": "code",
   "execution_count": null,
   "metadata": {},
   "outputs": [],
   "source": []
  }
 ],
 "metadata": {
  "kernelspec": {
   "display_name": "Python 3",
   "language": "python",
   "name": "python3"
  },
  "language_info": {
   "codemirror_mode": {
    "name": "ipython",
    "version": 3
   },
   "file_extension": ".py",
   "mimetype": "text/x-python",
   "name": "python",
   "nbconvert_exporter": "python",
   "pygments_lexer": "ipython3",
   "version": "3.8.5"
  },
  "toc": {
   "base_numbering": 1,
   "nav_menu": {},
   "number_sections": true,
   "sideBar": true,
   "skip_h1_title": false,
   "title_cell": "Table of Contents",
   "title_sidebar": "Contents",
   "toc_cell": false,
   "toc_position": {},
   "toc_section_display": true,
   "toc_window_display": false
  },
  "varInspector": {
   "cols": {
    "lenName": 16,
    "lenType": 16,
    "lenVar": 40
   },
   "kernels_config": {
    "python": {
     "delete_cmd_postfix": "",
     "delete_cmd_prefix": "del ",
     "library": "var_list.py",
     "varRefreshCmd": "print(var_dic_list())"
    },
    "r": {
     "delete_cmd_postfix": ") ",
     "delete_cmd_prefix": "rm(",
     "library": "var_list.r",
     "varRefreshCmd": "cat(var_dic_list()) "
    }
   },
   "types_to_exclude": [
    "module",
    "function",
    "builtin_function_or_method",
    "instance",
    "_Feature"
   ],
   "window_display": false
  }
 },
 "nbformat": 4,
 "nbformat_minor": 4
}
